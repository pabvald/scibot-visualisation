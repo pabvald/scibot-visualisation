{
 "cells": [
  {
   "cell_type": "code",
   "execution_count": 1,
   "source": [
    "from data_loading.data_loader import SciBot_DataLoader \r\n",
    "from data_loading.mapping_loader import ScibotMappingLoader\r\n",
    "from os.path import join as pjoin"
   ],
   "outputs": [],
   "metadata": {}
  },
  {
   "cell_type": "code",
   "execution_count": 2,
   "source": [
    "from config import ARTICLES_DIR, GAZEDATA_VERSION, GAZE_DIR, MAPPING_DIR\r\n"
   ],
   "outputs": [],
   "metadata": {}
  },
  {
   "cell_type": "code",
   "execution_count": 47,
   "source": [
    "article_ids = list(dataloader.grel_articles.keys())\r\n",
    "article_id = article_ids[3]"
   ],
   "outputs": [],
   "metadata": {}
  },
  {
   "cell_type": "code",
   "execution_count": 48,
   "source": [
    "dataloader = SciBot_DataLoader(pjoin(GAZE_DIR, GAZEDATA_VERSION),  gaze_data=True, googleNQ=True, gREL=True, \r\n",
    "                                include_users=['A04'], article_dir=ARTICLES_DIR)\r\n",
    "\r\n",
    "mappingloader = ScibotMappingLoader(MAPPING_DIR, \"g-REL\", article_id)"
   ],
   "outputs": [],
   "metadata": {}
  },
  {
   "cell_type": "code",
   "execution_count": 49,
   "source": [
    "import numpy as np \r\n",
    "\r\n",
    "for aid in article_ids:\r\n",
    "    print(aid, \" \", np.unique(dataloader.grel_reading['A04'][aid[:-2]]['dataframe']['paragraph_id']))\r\n"
   ],
   "outputs": [
    {
     "output_type": "stream",
     "name": "stdout",
     "text": [
      "g-rel_q075-1_i   [-2  0]\n",
      "g-rel_q076-1_r   [-2  0]\n",
      "g-rel_q085-2_i   [-2  0]\n",
      "g-rel_q088-1_t   [-2  0]\n",
      "g-rel_q094-2_t   [-2  0]\n",
      "g-rel_q097-2_t   [-2  0]\n",
      "g-rel_q103-1_i   [-2  0]\n",
      "g-rel_q116-1_r   [-2  0]\n",
      "g-rel_q118-1_r   [-2  0]\n",
      "g-rel_q122-2_i   [-2  0]\n",
      "g-rel_q128-1_r   [-2  0]\n",
      "g-rel_q134-3_t   [-2  0]\n"
     ]
    }
   ],
   "metadata": {}
  },
  {
   "cell_type": "code",
   "execution_count": 50,
   "source": [
    "dataloader.grel_reading.keys()"
   ],
   "outputs": [
    {
     "output_type": "execute_result",
     "data": {
      "text/plain": [
       "dict_keys(['A04'])"
      ]
     },
     "metadata": {},
     "execution_count": 50
    }
   ],
   "metadata": {}
  },
  {
   "cell_type": "code",
   "execution_count": 51,
   "source": [
    "article = dataloader.grel_articles[article_id]\r\n",
    "gaze_data = dataloader.grel_reading['A04'][article_id[:-2]]['dataframe']\r\n",
    "pars_mapping = mappingloader.paragraphs \r\n",
    "labels_mapping = mappingloader.labels"
   ],
   "outputs": [],
   "metadata": {}
  },
  {
   "cell_type": "code",
   "execution_count": 52,
   "source": [
    "print(article.file_name, \" \", any([par['answer'] for par in article.paragraphs]))"
   ],
   "outputs": [
    {
     "output_type": "stream",
     "name": "stdout",
     "text": [
      "c:\\Users\\pablo\\DFKI\\scibot\\scibot_visualization\\server\\src\\data\\articles\\g-rel\\main\\g-rel_q088-1_t.html   False\n"
     ]
    }
   ],
   "metadata": {}
  },
  {
   "cell_type": "code",
   "execution_count": 40,
   "source": [
    "for par_id in pars_mapping['paragraph_id'].to_numpy():\r\n",
    "    print(par_id)"
   ],
   "outputs": [
    {
     "output_type": "stream",
     "name": "stdout",
     "text": [
      "-2\n",
      "0\n"
     ]
    }
   ],
   "metadata": {}
  },
  {
   "cell_type": "code",
   "execution_count": 65,
   "source": [
    "article.article_id.lower()"
   ],
   "outputs": [
    {
     "output_type": "execute_result",
     "data": {
      "text/plain": [
       "'c:\\\\users\\\\pablo\\\\dfki\\\\scibot\\\\scibot_visualization\\\\server\\\\src\\\\data\\\\articles\\\\g-rel\\\\main\\\\g-rel_q088-1_t'"
      ]
     },
     "metadata": {},
     "execution_count": 65
    }
   ],
   "metadata": {}
  },
  {
   "cell_type": "code",
   "execution_count": 10,
   "source": [
    "ids = list(range(-2, len(article.paragraphs)))\r\n",
    "ids"
   ],
   "outputs": [
    {
     "output_type": "execute_result",
     "data": {
      "text/plain": [
       "[-2, -1, 0, 1, 2, 3, 4]"
      ]
     },
     "metadata": {},
     "execution_count": 10
    }
   ],
   "metadata": {}
  },
  {
   "cell_type": "code",
   "execution_count": 85,
   "source": [
    "import os\r\n",
    "\r\n",
    "from enum import Enum\r\n",
    "from pandas.core.frame import DataFrame\r\n",
    "from models.paragraph import ParagraphModel, ParagraphSchema\r\n",
    "from marshmallow import Schema, fields\r\n",
    "from typing import Any, List, Dict\r\n",
    "\r\n",
    "from models import paragraph\r\n",
    "from data_loading.article_parser import Article\r\n",
    "\r\n",
    "\r\n",
    "class Corpus(Enum):\r\n",
    "    grel = \"g-REL\"\r\n",
    "    nq = \"GoogleNQ\"\r\n",
    "\r\n",
    "\r\n",
    "class Document(object):\r\n",
    "    \"\"\"Document Representation\"\"\"\r\n",
    "\r\n",
    "    def __init__(self, user_id: str, article_id: str, corpus: str, query: str,\r\n",
    "                 paragraphs: List[ParagraphModel]):\r\n",
    "        self.user_id = user_id\r\n",
    "        self.id = article_id\r\n",
    "        self.corpus = corpus\r\n",
    "        self.query = query\r\n",
    "        self.paragraphs = paragraphs\r\n",
    "\r\n",
    "    @classmethod \r\n",
    "    def from_data(cls, user_id: str, article: Article, gaze_data: DataFrame, pars_mapping: DataFrame, labels_mapping: DataFrame):\r\n",
    "        paragraphs = []\r\n",
    "        _, article_id = os.path.split(article.article_id)\r\n",
    "\r\n",
    "        # determine corpus\r\n",
    "        corpus =  Corpus.grel if article_id.startswith('g-rel') else Corpus.nq\r\n",
    "\r\n",
    "        # combine the HTML, gaze and mappping data to create the pararagrahs\r\n",
    "        par_ids = pars_mapping['paragraph_id'].to_numpy()\r\n",
    "        for par_id in par_ids: \r\n",
    "            if par_id >= 0: \r\n",
    "                if corpus == Corpus.grel: \r\n",
    "                    par_parsing = {'answer': any([par['answer'] for par in article.paragraphs])}\r\n",
    "                else:\r\n",
    "                    par_parsing = {'answer': article.paragraphs[par_id]['answer']}\r\n",
    "\r\n",
    "            else:\r\n",
    "                par_parsing = {'answer': False}\r\n",
    "\r\n",
    "            par_gaze = gaze_data.loc[gaze_data['paragraph_id'] == par_id]\r\n",
    "            par_mapping = pars_mapping.loc[pars_mapping['paragraph_id'] == par_id].to_numpy()[0]\r\n",
    "            labels_selection = labels_mapping.loc[labels_mapping['paragraph_id'] == par_id]\r\n",
    "            paragraphs.append(\r\n",
    "                ParagraphModel.from_data(par_parsing, par_gaze, par_mapping, labels_selection)\r\n",
    "            )\r\n",
    "        \r\n",
    "        return cls(user_id, article_id, corpus.value, article.query, paragraphs)\r\n",
    "\r\n",
    "class DocumentSchema(Schema):\r\n",
    "    user_id = fields.Str()\r\n",
    "    id = fields.Str()\r\n",
    "    corpus = fields.Str()\r\n",
    "    query = fields.Str()\r\n",
    "    paragraphs = fields.List(fields.Nested(ParagraphSchema))"
   ],
   "outputs": [],
   "metadata": {}
  },
  {
   "cell_type": "code",
   "execution_count": 86,
   "source": [
    "document = Document.from_data('A01', article, gaze_data, pars_mapping, labels_mapping)"
   ],
   "outputs": [],
   "metadata": {}
  },
  {
   "cell_type": "code",
   "execution_count": 87,
   "source": [
    "document.paragraphs[0]"
   ],
   "outputs": [
    {
     "output_type": "execute_result",
     "data": {
      "text/plain": [
       "<models.paragraph.ParagraphModel at 0x2d71b131910>"
      ]
     },
     "metadata": {},
     "execution_count": 87
    }
   ],
   "metadata": {}
  },
  {
   "cell_type": "code",
   "execution_count": 88,
   "source": [
    "document.corpus"
   ],
   "outputs": [
    {
     "output_type": "execute_result",
     "data": {
      "text/plain": [
       "'g-REL'"
      ]
     },
     "metadata": {},
     "execution_count": 88
    }
   ],
   "metadata": {}
  },
  {
   "cell_type": "code",
   "execution_count": null,
   "source": [],
   "outputs": [],
   "metadata": {}
  }
 ],
 "metadata": {
  "orig_nbformat": 4,
  "language_info": {
   "name": "python",
   "version": "3.9.6",
   "mimetype": "text/x-python",
   "codemirror_mode": {
    "name": "ipython",
    "version": 3
   },
   "pygments_lexer": "ipython3",
   "nbconvert_exporter": "python",
   "file_extension": ".py"
  },
  "kernelspec": {
   "name": "python3",
   "display_name": "Python 3.9.6 64-bit ('scibot_visualization': conda)"
  },
  "interpreter": {
   "hash": "eb03a53bd8f4a079c39028361125c926e247952045d4ebb3baf83610f630a3d9"
  }
 },
 "nbformat": 4,
 "nbformat_minor": 2
}